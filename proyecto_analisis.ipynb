{
 "cells": [
  {
   "cell_type": "markdown",
   "id": "dbc259d7",
   "metadata": {},
   "source": [
    "## Proyecto análisis de datos \n",
    "\n",
    "En este proyecto se quiere intentar entender la problematica actual de la llamada \"gentrificación\" de la ciudad de Medellín.\n",
    "\n",
    "En los últimos años se ha percibido una preocupación general en la ciudad de medellín por los precios cada vez más elevados de vida, muchas personas culpan a los extrangeros que llegan a quedarse en la ciudad y gastan en dolares.\n",
    "\n",
    "El pensamiento general es que al ellos tener mejor capacidad adquisitiva están encareciendo todo por el cambio de su moneda local (mayormente en dolares)\n",
    "\n",
    "con este estudio se quieren estudiar las llegadas y salidas internacionales del aeropuerto Jose María Cordoba para ver qué tantos individuos han aumentado la población e intentar predecir cuantas personas van a entrar y salir del país, esto con el objetico de prdecir si la población extrangera tiende a la alza o la baja en el futuro.\n",
    "\n",
    "en el siguiente paso se cargan los datos de legadas y salidas internacionales desde el años 2007 hasta el año 2022"
   ]
  },
  {
   "cell_type": "code",
   "execution_count": 1,
   "id": "0388b643",
   "metadata": {},
   "outputs": [
    {
     "data": {
      "text/plain": [
       "Index(['lle_periodo', 'lle_origenpax', 'lle_cod', 'lle_indicador',\n",
       "       'lle_valor'],\n",
       "      dtype='object')"
      ]
     },
     "execution_count": 1,
     "metadata": {},
     "output_type": "execute_result"
    }
   ],
   "source": [
    "import pandas as pd\n",
    "import numpy as np\n",
    "\n",
    "\n",
    "arrivals = pd.read_csv(\"./llegada_mensual_pasajeros_aeropuerto_de_origen_internacional.csv\", sep = ';')\n",
    "departures = pd.read_csv(\"./salida_mensual_pasajeros_aeropuerto_destino_internacional.csv\", sep = ';')\n",
    "\n",
    "arrivals.columns\n"
   ]
  },
  {
   "cell_type": "markdown",
   "id": "83d69db3",
   "metadata": {},
   "source": [
    "ahora se usa la fecha de las llegadas y salidas como indice para crear una serie de tiempo"
   ]
  },
  {
   "cell_type": "code",
   "execution_count": 2,
   "id": "8b69d9fc",
   "metadata": {},
   "outputs": [
    {
     "data": {
      "text/html": [
       "<div>\n",
       "<style scoped>\n",
       "    .dataframe tbody tr th:only-of-type {\n",
       "        vertical-align: middle;\n",
       "    }\n",
       "\n",
       "    .dataframe tbody tr th {\n",
       "        vertical-align: top;\n",
       "    }\n",
       "\n",
       "    .dataframe thead th {\n",
       "        text-align: right;\n",
       "    }\n",
       "</style>\n",
       "<table border=\"1\" class=\"dataframe\">\n",
       "  <thead>\n",
       "    <tr style=\"text-align: right;\">\n",
       "      <th></th>\n",
       "      <th>lle_origenpax</th>\n",
       "      <th>lle_cod</th>\n",
       "      <th>lle_indicador</th>\n",
       "      <th>lle_valor</th>\n",
       "    </tr>\n",
       "    <tr>\n",
       "      <th>lle_periodo</th>\n",
       "      <th></th>\n",
       "      <th></th>\n",
       "      <th></th>\n",
       "      <th></th>\n",
       "    </tr>\n",
       "  </thead>\n",
       "  <tbody>\n",
       "    <tr>\n",
       "      <th>2007-01-01</th>\n",
       "      <td>Colombia</td>\n",
       "      <td>CO</td>\n",
       "      <td>LLEGADA_PAX_INTERNA</td>\n",
       "      <td>164.0</td>\n",
       "    </tr>\n",
       "    <tr>\n",
       "      <th>2007-01-01</th>\n",
       "      <td>Canadá</td>\n",
       "      <td>CA</td>\n",
       "      <td>LLEGADA_PAX_INTERNA</td>\n",
       "      <td>7.0</td>\n",
       "    </tr>\n",
       "    <tr>\n",
       "      <th>2007-01-01</th>\n",
       "      <td>Venezuela</td>\n",
       "      <td>VE</td>\n",
       "      <td>LLEGADA_PAX_INTERNA</td>\n",
       "      <td>2797.0</td>\n",
       "    </tr>\n",
       "    <tr>\n",
       "      <th>2007-01-01</th>\n",
       "      <td>Uruguay</td>\n",
       "      <td>UY</td>\n",
       "      <td>LLEGADA_PAX_INTERNA</td>\n",
       "      <td>18.0</td>\n",
       "    </tr>\n",
       "    <tr>\n",
       "      <th>2007-01-01</th>\n",
       "      <td>Turquía</td>\n",
       "      <td>TR</td>\n",
       "      <td>LLEGADA_PAX_INTERNA</td>\n",
       "      <td>0.0</td>\n",
       "    </tr>\n",
       "  </tbody>\n",
       "</table>\n",
       "</div>"
      ],
      "text/plain": [
       "            lle_origenpax lle_cod        lle_indicador lle_valor\n",
       "lle_periodo                                                     \n",
       "2007-01-01       Colombia      CO  LLEGADA_PAX_INTERNA     164.0\n",
       "2007-01-01         Canadá      CA  LLEGADA_PAX_INTERNA       7.0\n",
       "2007-01-01      Venezuela      VE  LLEGADA_PAX_INTERNA    2797.0\n",
       "2007-01-01        Uruguay      UY  LLEGADA_PAX_INTERNA      18.0\n",
       "2007-01-01        Turquía      TR  LLEGADA_PAX_INTERNA       0.0"
      ]
     },
     "execution_count": 2,
     "metadata": {},
     "output_type": "execute_result"
    }
   ],
   "source": [
    "arrivals['lle_periodo'] = pd.to_datetime(arrivals['lle_periodo'], format='%Y%m')\n",
    "\n",
    "arrivals.set_index('lle_periodo', inplace=True)\n",
    "arrivals.sort_index(inplace=True)\n",
    "\n",
    "\n",
    "arrivals.head()\n"
   ]
  },
  {
   "cell_type": "code",
   "execution_count": 3,
   "id": "61af36c1",
   "metadata": {},
   "outputs": [
    {
     "data": {
      "text/html": [
       "<div>\n",
       "<style scoped>\n",
       "    .dataframe tbody tr th:only-of-type {\n",
       "        vertical-align: middle;\n",
       "    }\n",
       "\n",
       "    .dataframe tbody tr th {\n",
       "        vertical-align: top;\n",
       "    }\n",
       "\n",
       "    .dataframe thead th {\n",
       "        text-align: right;\n",
       "    }\n",
       "</style>\n",
       "<table border=\"1\" class=\"dataframe\">\n",
       "  <thead>\n",
       "    <tr style=\"text-align: right;\">\n",
       "      <th></th>\n",
       "      <th>sal_codigo</th>\n",
       "      <th>sal_indicador</th>\n",
       "      <th>sal_valor</th>\n",
       "      <th>sal_destinoint</th>\n",
       "    </tr>\n",
       "    <tr>\n",
       "      <th>sal_periodo</th>\n",
       "      <th></th>\n",
       "      <th></th>\n",
       "      <th></th>\n",
       "      <th></th>\n",
       "    </tr>\n",
       "  </thead>\n",
       "  <tbody>\n",
       "    <tr>\n",
       "      <th>2007-01-01</th>\n",
       "      <td>AN</td>\n",
       "      <td>SALIDA_PAX</td>\n",
       "      <td>906.0</td>\n",
       "      <td>Antillas Neerlandesas</td>\n",
       "    </tr>\n",
       "    <tr>\n",
       "      <th>2007-01-01</th>\n",
       "      <td>VE</td>\n",
       "      <td>SALIDA_PAX</td>\n",
       "      <td>4215.0</td>\n",
       "      <td>Venezuela</td>\n",
       "    </tr>\n",
       "    <tr>\n",
       "      <th>2007-01-01</th>\n",
       "      <td>UY</td>\n",
       "      <td>SALIDA_PAX</td>\n",
       "      <td>14.0</td>\n",
       "      <td>Uruguay</td>\n",
       "    </tr>\n",
       "    <tr>\n",
       "      <th>2007-01-01</th>\n",
       "      <td>US</td>\n",
       "      <td>SALIDA_PAX</td>\n",
       "      <td>16643.0</td>\n",
       "      <td>Estados Unidos</td>\n",
       "    </tr>\n",
       "    <tr>\n",
       "      <th>2007-01-01</th>\n",
       "      <td>TT</td>\n",
       "      <td>SALIDA_PAX</td>\n",
       "      <td>36.0</td>\n",
       "      <td>Trinidad y Tobago</td>\n",
       "    </tr>\n",
       "  </tbody>\n",
       "</table>\n",
       "</div>"
      ],
      "text/plain": [
       "            sal_codigo sal_indicador sal_valor         sal_destinoint\n",
       "sal_periodo                                                          \n",
       "2007-01-01          AN    SALIDA_PAX     906.0  Antillas Neerlandesas\n",
       "2007-01-01          VE    SALIDA_PAX    4215.0              Venezuela\n",
       "2007-01-01          UY    SALIDA_PAX      14.0                Uruguay\n",
       "2007-01-01          US    SALIDA_PAX   16643.0         Estados Unidos\n",
       "2007-01-01          TT    SALIDA_PAX      36.0      Trinidad y Tobago"
      ]
     },
     "execution_count": 3,
     "metadata": {},
     "output_type": "execute_result"
    }
   ],
   "source": [
    "departures['sal_periodo'] = pd.to_datetime(departures['sal_periodo'], format='%Y%m')\n",
    "\n",
    "departures.set_index('sal_periodo', inplace=True)\n",
    "departures.sort_index(inplace=True)\n",
    "\n",
    "departures.head()\n"
   ]
  },
  {
   "cell_type": "markdown",
   "id": "7d36f2cf",
   "metadata": {},
   "source": [
    "en el siguiente paso se hará un análisis de completitud de los datos"
   ]
  },
  {
   "cell_type": "code",
   "execution_count": 4,
   "id": "dad2f4d9",
   "metadata": {},
   "outputs": [
    {
     "name": "stdout",
     "output_type": "stream",
     "text": [
      "<class 'pandas.core.frame.DataFrame'>\n",
      "DatetimeIndex: 5951 entries, 2007-01-01 to 2022-02-01\n",
      "Data columns (total 4 columns):\n",
      " #   Column         Non-Null Count  Dtype \n",
      "---  ------         --------------  ----- \n",
      " 0   lle_origenpax  5951 non-null   object\n",
      " 1   lle_cod        5951 non-null   object\n",
      " 2   lle_indicador  5951 non-null   object\n",
      " 3   lle_valor      5951 non-null   object\n",
      "dtypes: object(4)\n",
      "memory usage: 232.5+ KB\n"
     ]
    }
   ],
   "source": [
    "arrivals.info()"
   ]
  },
  {
   "cell_type": "code",
   "execution_count": 5,
   "id": "060c4702",
   "metadata": {},
   "outputs": [
    {
     "data": {
      "text/plain": [
       "array(['Colombia', 'Canadá', 'Venezuela', 'Uruguay', 'Turquía',\n",
       "       'Trinidad y Tobago', 'República Dominicana', 'Perú', 'Bolivia',\n",
       "       'Paraguay', 'Panamá', 'Nicaragua', 'México', 'Costa Rica', 'Haití',\n",
       "       'Cuba', 'Brasil', 'Ecuador', 'El Salvador', 'España', 'Honduras',\n",
       "       'Filipinas', 'Guatemala', 'Antillas Neerlandesas', 'Bahamas',\n",
       "       'Argentina', 'Estados Unidos', 'Chile', 'Jamaica', 'Belice',\n",
       "       'Guyana', 'Reino Unido', 'Islas Caimán', 'Italia', 'Japón',\n",
       "       'Portugal', 'China', 'Francia', 'Alemania', 'Australia',\n",
       "       'Bermudas', 'Barbados', 'Corea del Sur', 'Emiratos Árabes Unidos',\n",
       "       'Israel', 'Países Bajos', 'Rusia', 'Senegal', 'Suecia', 'Suiza',\n",
       "       'Bélgica', 'Grecia', 'Qatar', 'Marruecos', 'Guam', 'Irlanda',\n",
       "       'Otros países del Caribe', 'San Cristóbal y Nieves', 'Sudáfrica',\n",
       "       'Jordania', 'Puerto Rico', 'Austria', 'Dinamarca', 'Noruega',\n",
       "       'Nueva Zelanda', 'Hungría', 'Luxemburgo',\n",
       "       'ISLAS VÍRGENES BRITÁNICAS', 'Costa de Marfil', 'Croacia',\n",
       "       'saint lucia', 'antigua and barbuda', 'india', 'haiti', 'Surinam',\n",
       "       'Antillas Francesas'], dtype=object)"
      ]
     },
     "execution_count": 5,
     "metadata": {},
     "output_type": "execute_result"
    }
   ],
   "source": [
    "arrivals['lle_origenpax'].unique()"
   ]
  },
  {
   "cell_type": "code",
   "execution_count": 6,
   "id": "8b9d1f1a",
   "metadata": {},
   "outputs": [
    {
     "name": "stdout",
     "output_type": "stream",
     "text": [
      "lle_origenpax      0\n",
      "lle_cod            0\n",
      "lle_indicador      0\n",
      "lle_valor        110\n",
      "dtype: int64\n"
     ]
    }
   ],
   "source": [
    "arrivals['lle_valor'] = pd.to_numeric(arrivals['lle_valor'], errors='coerce')\n",
    "print(arrivals.isnull().sum())\n"
   ]
  },
  {
   "cell_type": "markdown",
   "id": "43eb3e7b",
   "metadata": {},
   "source": [
    "se evidencia que hay datos vacíos en la columna `lle_valor`, se analiza más profundamente para deducir cuál puede ser la causa y con base en eso tratarlos apropiadamente.\n",
    "\n",
    "se aíslan las filas con valores nulos (NaN) y se valida si podrían ser ceros"
   ]
  },
  {
   "cell_type": "code",
   "execution_count": 13,
   "id": "f3e0c656",
   "metadata": {
    "scrolled": true
   },
   "outputs": [
    {
     "data": {
      "text/html": [
       "<div>\n",
       "<style scoped>\n",
       "    .dataframe tbody tr th:only-of-type {\n",
       "        vertical-align: middle;\n",
       "    }\n",
       "\n",
       "    .dataframe tbody tr th {\n",
       "        vertical-align: top;\n",
       "    }\n",
       "\n",
       "    .dataframe thead th {\n",
       "        text-align: right;\n",
       "    }\n",
       "</style>\n",
       "<table border=\"1\" class=\"dataframe\">\n",
       "  <thead>\n",
       "    <tr style=\"text-align: right;\">\n",
       "      <th></th>\n",
       "      <th>lle_origenpax</th>\n",
       "      <th>lle_cod</th>\n",
       "      <th>lle_indicador</th>\n",
       "      <th>lle_valor</th>\n",
       "    </tr>\n",
       "    <tr>\n",
       "      <th>lle_periodo</th>\n",
       "      <th></th>\n",
       "      <th></th>\n",
       "      <th></th>\n",
       "      <th></th>\n",
       "    </tr>\n",
       "  </thead>\n",
       "  <tbody>\n",
       "    <tr>\n",
       "      <th>2019-04-01</th>\n",
       "      <td>Nueva Zelanda</td>\n",
       "      <td>NZ</td>\n",
       "      <td>LLEGADA_PAX_INTERNA</td>\n",
       "      <td>NaN</td>\n",
       "    </tr>\n",
       "    <tr>\n",
       "      <th>2019-04-01</th>\n",
       "      <td>Noruega</td>\n",
       "      <td>NO</td>\n",
       "      <td>LLEGADA_PAX_INTERNA</td>\n",
       "      <td>NaN</td>\n",
       "    </tr>\n",
       "    <tr>\n",
       "      <th>2019-04-01</th>\n",
       "      <td>Jordania</td>\n",
       "      <td>JO</td>\n",
       "      <td>LLEGADA_PAX_INTERNA</td>\n",
       "      <td>NaN</td>\n",
       "    </tr>\n",
       "    <tr>\n",
       "      <th>2019-04-01</th>\n",
       "      <td>Suecia</td>\n",
       "      <td>SE</td>\n",
       "      <td>LLEGADA_PAX_INTERNA</td>\n",
       "      <td>NaN</td>\n",
       "    </tr>\n",
       "    <tr>\n",
       "      <th>2019-04-01</th>\n",
       "      <td>San Cristóbal y Nieves</td>\n",
       "      <td>KN</td>\n",
       "      <td>LLEGADA_PAX_INTERNA</td>\n",
       "      <td>NaN</td>\n",
       "    </tr>\n",
       "    <tr>\n",
       "      <th>...</th>\n",
       "      <td>...</td>\n",
       "      <td>...</td>\n",
       "      <td>...</td>\n",
       "      <td>...</td>\n",
       "    </tr>\n",
       "    <tr>\n",
       "      <th>2019-12-01</th>\n",
       "      <td>antigua and barbuda</td>\n",
       "      <td>AG</td>\n",
       "      <td>LLEGADA_PAX_INTERNA</td>\n",
       "      <td>NaN</td>\n",
       "    </tr>\n",
       "    <tr>\n",
       "      <th>2019-12-01</th>\n",
       "      <td>Barbados</td>\n",
       "      <td>BB</td>\n",
       "      <td>LLEGADA_PAX_INTERNA</td>\n",
       "      <td>NaN</td>\n",
       "    </tr>\n",
       "    <tr>\n",
       "      <th>2019-12-01</th>\n",
       "      <td>Belice</td>\n",
       "      <td>BZ</td>\n",
       "      <td>LLEGADA_PAX_INTERNA</td>\n",
       "      <td>NaN</td>\n",
       "    </tr>\n",
       "    <tr>\n",
       "      <th>2019-12-01</th>\n",
       "      <td>Dinamarca</td>\n",
       "      <td>DK</td>\n",
       "      <td>LLEGADA_PAX_INTERNA</td>\n",
       "      <td>NaN</td>\n",
       "    </tr>\n",
       "    <tr>\n",
       "      <th>2019-12-01</th>\n",
       "      <td>Croacia</td>\n",
       "      <td>HR</td>\n",
       "      <td>LLEGADA_PAX_INTERNA</td>\n",
       "      <td>NaN</td>\n",
       "    </tr>\n",
       "  </tbody>\n",
       "</table>\n",
       "<p>110 rows × 4 columns</p>\n",
       "</div>"
      ],
      "text/plain": [
       "                      lle_origenpax lle_cod        lle_indicador  lle_valor\n",
       "lle_periodo                                                                \n",
       "2019-04-01            Nueva Zelanda      NZ  LLEGADA_PAX_INTERNA        NaN\n",
       "2019-04-01                  Noruega      NO  LLEGADA_PAX_INTERNA        NaN\n",
       "2019-04-01                 Jordania      JO  LLEGADA_PAX_INTERNA        NaN\n",
       "2019-04-01                   Suecia      SE  LLEGADA_PAX_INTERNA        NaN\n",
       "2019-04-01   San Cristóbal y Nieves      KN  LLEGADA_PAX_INTERNA        NaN\n",
       "...                             ...     ...                  ...        ...\n",
       "2019-12-01      antigua and barbuda      AG  LLEGADA_PAX_INTERNA        NaN\n",
       "2019-12-01                 Barbados      BB  LLEGADA_PAX_INTERNA        NaN\n",
       "2019-12-01                   Belice      BZ  LLEGADA_PAX_INTERNA        NaN\n",
       "2019-12-01                Dinamarca      DK  LLEGADA_PAX_INTERNA        NaN\n",
       "2019-12-01                  Croacia      HR  LLEGADA_PAX_INTERNA        NaN\n",
       "\n",
       "[110 rows x 4 columns]"
      ]
     },
     "execution_count": 13,
     "metadata": {},
     "output_type": "execute_result"
    }
   ],
   "source": [
    "null_rows = arrivals[arrivals['lle_valor'].isnull()]\n",
    "null_rows"
   ]
  },
  {
   "cell_type": "markdown",
   "id": "a83defe4",
   "metadata": {},
   "source": [
    "en esta lista de países con `lle_valor` se pueden notar duplicados, ahora se validará si son todos paíese que no es comín que lleguen pasajeros a colombia"
   ]
  },
  {
   "cell_type": "code",
   "execution_count": 14,
   "id": "815adb1b",
   "metadata": {},
   "outputs": [
    {
     "name": "stdout",
     "output_type": "stream",
     "text": [
      "['Nueva Zelanda' 'Noruega' 'Jordania' 'Suecia' 'San Cristóbal y Nieves'\n",
      " 'saint lucia' 'Senegal' 'Croacia' 'Dinamarca' 'india' 'Irlanda'\n",
      " 'Sudáfrica' 'antigua and barbuda' 'Nicaragua' 'Belice'\n",
      " 'Trinidad y Tobago' 'Jamaica' 'Marruecos' 'Qatar' 'Islas Caimán'\n",
      " 'Barbados' 'Haití' 'Venezuela']\n"
     ]
    }
   ],
   "source": [
    "print(null_rows['lle_origenpax'].unique())"
   ]
  },
  {
   "cell_type": "markdown",
   "id": "1e10dda8",
   "metadata": {},
   "source": [
    "de lo anterior se puede deducir que no son países muy comunes por lo tanto es muy probable que los valores sean cero. por eso se procederá a reemplazar los datos nulos por ceros"
   ]
  },
  {
   "cell_type": "code",
   "execution_count": 15,
   "id": "bf4ca9ee",
   "metadata": {},
   "outputs": [
    {
     "name": "stdout",
     "output_type": "stream",
     "text": [
      "lle_origenpax    0\n",
      "lle_cod          0\n",
      "lle_indicador    0\n",
      "lle_valor        0\n",
      "dtype: int64\n"
     ]
    }
   ],
   "source": [
    "arrivals['lle_valor'].fillna(0, inplace=True)\n",
    "print(arrivals.isnull().sum())"
   ]
  },
  {
   "cell_type": "code",
   "execution_count": null,
   "id": "5e8ef6ab",
   "metadata": {},
   "outputs": [],
   "source": []
  }
 ],
 "metadata": {
  "kernelspec": {
   "display_name": "Python 3 (ipykernel)",
   "language": "python",
   "name": "python3"
  },
  "language_info": {
   "codemirror_mode": {
    "name": "ipython",
    "version": 3
   },
   "file_extension": ".py",
   "mimetype": "text/x-python",
   "name": "python",
   "nbconvert_exporter": "python",
   "pygments_lexer": "ipython3",
   "version": "3.9.13"
  }
 },
 "nbformat": 4,
 "nbformat_minor": 5
}
